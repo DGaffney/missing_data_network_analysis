{
 "cells": [
  {
   "cell_type": "code",
   "execution_count": 10,
   "metadata": {
    "collapsed": false
   },
   "outputs": [
    {
     "name": "stdout",
     "output_type": "stream",
     "text": [
      "Populating the interactive namespace from numpy and matplotlib\n"
     ]
    },
    {
     "name": "stderr",
     "output_type": "stream",
     "text": [
      "WARNING: pylab import has clobbered these variables: ['random']\n",
      "`%matplotlib` prevents importing * from pylab and numpy\n"
     ]
    }
   ],
   "source": [
    "import numpy as np\n",
    "import networkx as nx\n",
    "import igraph as ig\n",
    "import random as random\n",
    "import scipy.stats as sc\n",
    "import scipy.spatial as sp\n",
    "import pickle\n",
    "import sys\n",
    "import csv\n",
    "import matplotlib.pyplot as plt\n",
    "%pylab inline"
   ]
  },
  {
   "cell_type": "markdown",
   "metadata": {},
   "source": [
    "## Main"
   ]
  },
  {
   "cell_type": "code",
   "execution_count": 13,
   "metadata": {
    "collapsed": false
   },
   "outputs": [],
   "source": [
    "Epinions_dir = nx.DiGraph()\n",
    "a=open(\"soc-Epinions.txt\",\"r\") \n",
    "for i in a:  \n",
    "    line=i.strip().split(' ')\n",
    "    Epinions_dir.add_edge(line[0],line[1])\n",
    "a.close()\n",
    "G = nx.Graph(Epinions_dir)"
   ]
  },
  {
   "cell_type": "code",
   "execution_count": 18,
   "metadata": {
    "collapsed": true
   },
   "outputs": [],
   "source": [
    "cut_pcts = [0.1, 0.2, 0.3, 0.4, 0.5, 0.6, 0.7, 0.75, 0.8, 0.85, 0.875, 0.9, 0.925, 0.95, 0.97, 0.98, 0.985, 0.99, 0.995, 0.999]"
   ]
  },
  {
   "cell_type": "code",
   "execution_count": 15,
   "metadata": {
    "collapsed": true
   },
   "outputs": [],
   "source": [
    "with open('./Epinions_clustering_result.csv', 'w') as csvfile:\n",
    "    writer = csv.writer(csvfile)\n",
    "    writer.writerow(['G = undirected Epinions', 'H = Partially observed undirected Epinions','','','','','','','','','',''])\n",
    "    writer.writerow(['Cut percent','nx.average_clustering(G)','avg_clustering(G)','avg_clustering(G,undefined=None)','iteration','Nodes','Edges','nx.average_clustering(H)','avg_clustering(H)','avg_clustering(H,undefined=None)','avg_clustering(H,observed=observed)','avg_clustering(H,observed=observed,undefined=None)'])"
   ]
  },
  {
   "cell_type": "code",
   "execution_count": 19,
   "metadata": {
    "collapsed": false
   },
   "outputs": [
    {
     "name": "stdout",
     "output_type": "stream",
     "text": [
      "0.7   iteration: 0\n",
      "0.7   iteration: 1\n",
      "0.7   iteration: 2\n",
      "0.7   iteration: 3\n",
      "0.7   iteration: 4\n",
      "0.7   iteration: 5\n",
      "0.7   iteration: 6\n",
      "0.7   iteration: 7\n",
      "0.7   iteration: 8\n",
      "0.7   iteration: 9\n"
     ]
    }
   ],
   "source": [
    "actual_nx   = 0.137756373  #nx.average_clustering(G)\n",
    "actual_Zero = 0.137756373  #avg_clustering(G)\n",
    "actual_None = 0.260512807  #avg_clustering(G,undefined=None)\n",
    "for cut_pct in cut_pcts:\n",
    "    results = []\n",
    "    # run 10 times\n",
    "    for iteration in range(10):\n",
    "        H,observed    = make_network(G,cut_pct)\n",
    "        N             = len(H.nodes()) \n",
    "        E             = len(H.edges()) \n",
    "        est_nx        = nx.average_clustering(H)\n",
    "        est_Zero      = avg_clustering(H)\n",
    "        est_None      = avg_clustering(H,undefined=None)\n",
    "        real_est_Zero = avg_clustering(H,observed=observed)\n",
    "        real_est_None = avg_clustering(H,observed=observed,undefined=None)\n",
    "        result=[cut_pct,actual_nx,actual_Zero,actual_None,iteration,N,E,est_nx,est_Zero,est_None,real_est_Zero,real_est_None]\n",
    "        with open('./Epinions_clustering_result.csv', 'a') as csvfile:\n",
    "            writer = csv.writer(csvfile)\n",
    "            writer.writerow(result)\n",
    "        results.append(result)\n",
    "        print cut_pct, '  iteration:', iteration\n",
    "    # average over the 10\n",
    "    np_results  = np.array(results)\n",
    "    averages = np.mean(np_results,axis=0).tolist()\n",
    "    averages[4]='avg'\n",
    "    with open('./Epinions_clustering_result.csv', 'a') as csvfile:\n",
    "            writer = csv.writer(csvfile)\n",
    "            writer.writerow(averages)"
   ]
  },
  {
   "cell_type": "markdown",
   "metadata": {},
   "source": [
    "## Functions"
   ]
  },
  {
   "cell_type": "code",
   "execution_count": 11,
   "metadata": {
    "collapsed": false
   },
   "outputs": [],
   "source": [
    "def clustering(graph, observed='all', undefined=0.0):\n",
    "    results = []\n",
    "    full = True if observed == 'all' else False\n",
    "    if type(undefined) is int: undefined = float(undefined)\n",
    "    for v in graph:\n",
    "        neighbor_ids = set(graph.neighbors(v))\n",
    "        intra_neighbor_ties = sum([len(set.intersection(set(graph.neighbors(neighbor)), neighbor_ids)) for neighbor in neighbor_ids])/2\n",
    "        n_count = len(neighbor_ids)\n",
    "        o_count = n_count if full else len(set.intersection(neighbor_ids, set(observed)))\n",
    "        if not full and v in observed:\n",
    "            o_triads = 0.5*o_count*(o_count-1)+(n_count-o_count)*o_count\n",
    "        else:\n",
    "            o_triads = 0.5*o_count*(o_count-1)\n",
    "        # the canonical clustering coefficient is undefined for leaves - default is zero\n",
    "        result = undefined if o_triads == 0 else float(intra_neighbor_ties)/o_triads\n",
    "        results.append(result)\n",
    "    return results\n",
    "\n",
    "def avg_clustering(graph, observed='all', undefined=0.0):\n",
    "    results = []\n",
    "    full = True if observed == 'all' else False\n",
    "    if type(undefined) is int: undefined = float(undefined)\n",
    "    for v in graph:\n",
    "        neighbor_ids = set(graph.neighbors(v))\n",
    "        intra_neighbor_ties = sum([len(set.intersection(set(graph.neighbors(neighbor)), neighbor_ids)) for neighbor in neighbor_ids])/2\n",
    "        n_count = len(neighbor_ids)\n",
    "        o_count = n_count if full else len(set.intersection(neighbor_ids, set(observed)))\n",
    "        if not full and v in observed:\n",
    "            o_triads = 0.5*o_count*(o_count-1)+(n_count-o_count)*o_count\n",
    "        else:\n",
    "            o_triads = 0.5*o_count*(o_count-1)\n",
    "        # the canonical clustering coefficient is undefined for leaves - default is zero\n",
    "        result = undefined if o_triads == 0 else float(intra_neighbor_ties)/o_triads\n",
    "        results.append(result)\n",
    "    results = [x for x in results if type(x) is float] # remove the undefined nodes if they are not integers\n",
    "    return float(sum(results))/len(results)"
   ]
  },
  {
   "cell_type": "code",
   "execution_count": 12,
   "metadata": {
    "collapsed": true
   },
   "outputs": [],
   "source": [
    "def make_network(G, cut_pct):\n",
    "    nodes = G.nodes()\n",
    "    edges = G.edges()\n",
    "    np.random.shuffle(nodes)\n",
    "    cut_count = int(cut_pct*len(nodes))\n",
    "    not_observed_nodes = nodes[0:cut_count]\n",
    "    observed_nodes = nodes[cut_count:]\n",
    "    not_observed_edges = G.subgraph(not_observed_nodes).edges()\n",
    "    H = G.copy()\n",
    "    H.remove_edges_from(not_observed_edges)\n",
    "    H.remove_nodes_from(nx.isolates(H))\n",
    "    return H, observed_nodes"
   ]
  },
  {
   "cell_type": "markdown",
   "metadata": {
    "collapsed": true
   },
   "source": [
    "### Old tests of functions"
   ]
  },
  {
   "cell_type": "code",
   "execution_count": 53,
   "metadata": {
    "collapsed": true
   },
   "outputs": [],
   "source": [
    "observed = Epinions.nodes()\n",
    "for i in range(10000):\n",
    "    missing = random.choice(observed)\n",
    "    observed.remove(missing)"
   ]
  },
  {
   "cell_type": "code",
   "execution_count": null,
   "metadata": {
    "collapsed": true
   },
   "outputs": [],
   "source": [
    "avg_nx   = nx.average_clustering(Epinions)\n",
    "print 'nx'\n",
    "avg_Zero = avg_clustering(Epinions)\n",
    "print 'Zero'\n",
    "avg_None = avg_clustering(Epinions, undefined=None)\n",
    "print 'None'"
   ]
  },
  {
   "cell_type": "code",
   "execution_count": 58,
   "metadata": {
    "collapsed": false
   },
   "outputs": [
    {
     "name": "stdout",
     "output_type": "stream",
     "text": [
      "obs_Zero\n",
      "obs_None\n"
     ]
    }
   ],
   "source": [
    "avg_obs_Zero = avg_clustering(Epinions, observed=observed)\n",
    "print 'obs_Zero'\n",
    "avg_obs_None = avg_clustering(Epinions, observed=observed, undefined=None)\n",
    "print 'obs_None'"
   ]
  },
  {
   "cell_type": "code",
   "execution_count": 59,
   "metadata": {
    "collapsed": false
   },
   "outputs": [
    {
     "name": "stdout",
     "output_type": "stream",
     "text": [
      "0.137756373392 0.137756373392 0.260512806715 0.142197478386 0.272931537259\n"
     ]
    }
   ],
   "source": [
    "print avg_nx, avg_Zero, avg_None, avg_obs_Zero, avg_obs_None"
   ]
  },
  {
   "cell_type": "code",
   "execution_count": 20,
   "metadata": {
    "collapsed": false
   },
   "outputs": [
    {
     "name": "stdout",
     "output_type": "stream",
     "text": [
      "['RDU', 'PHL', 'ATL', 'LAX', 'PVD', 'SEA', 'ORD', 'PIT', 'DFW']\n"
     ]
    }
   ],
   "source": [
    "flights = [[\"ORD\", \"SEA\"], [\"ORD\", \"LAX\"], ['ORD', 'DFW'], ['ORD', 'PIT'], ['SEA', 'LAX'], ['LAX', 'DFW'], ['ATL', 'PIT'], ['ATL', 'RDU'], ['RDU', 'PHL'], ['PIT', 'PHL'], ['PHL', 'PVD']]\n",
    "gg = nx.Graph()\n",
    "for flight in flights:\n",
    "    gg.add_edge(flight[0],flight[1])\n",
    "print gg.nodes()\n",
    "labels = {}\n",
    "for node in gg:\n",
    "    labels[node]=node"
   ]
  },
  {
   "cell_type": "code",
   "execution_count": 21,
   "metadata": {
    "collapsed": false
   },
   "outputs": [
    {
     "data": {
      "image/png": "[encoded data removed]",
      "text/plain": [
       "<matplotlib.figure.Figure at 0x14ad01d10>"
      ]
     },
     "metadata": {},
     "output_type": "display_data"
    }
   ],
   "source": [
    "nx.draw(gg,labels=labels)"
   ]
  },
  {
   "cell_type": "code",
   "execution_count": 22,
   "metadata": {
    "collapsed": false
   },
   "outputs": [
    {
     "data": {
      "image/png": "[encoded data removed]",
      "text/plain": [
       "<matplotlib.figure.Figure at 0x1315e0f50>"
      ]
     },
     "metadata": {},
     "output_type": "display_data"
    }
   ],
   "source": [
    "gg_test, observed = make_network(gg,0.5)\n",
    "labelsss={}\n",
    "for node in observed:\n",
    "    labelsss[node]=node\n",
    "nx.draw(gg_test,labels=labelsss)"
   ]
  },
  {
   "cell_type": "code",
   "execution_count": 85,
   "metadata": {
    "collapsed": true
   },
   "outputs": [],
   "source": [
    "test = make_network(G,0.1)"
   ]
  },
  {
   "cell_type": "code",
   "execution_count": 86,
   "metadata": {
    "collapsed": false
   },
   "outputs": [
    {
     "name": "stdout",
     "output_type": "stream",
     "text": [
      "75879 405740\n",
      "75537 402042\n"
     ]
    }
   ],
   "source": [
    "print len(G.nodes()),len(G.edges())\n",
    "print len(test.nodes()),len(test.edges())"
   ]
  }
 ],
 "metadata": {
  "kernelspec": {
   "display_name": "Python 2",
   "language": "python",
   "name": "python2"
  },
  "language_info": {
   "codemirror_mode": {
    "name": "ipython",
    "version": 2
   },
   "file_extension": ".py",
   "mimetype": "text/x-python",
   "name": "python",
   "nbconvert_exporter": "python",
   "pygments_lexer": "ipython2",
   "version": "2.7.11"
  }
 },
 "nbformat": 4,
 "nbformat_minor": 0
}
